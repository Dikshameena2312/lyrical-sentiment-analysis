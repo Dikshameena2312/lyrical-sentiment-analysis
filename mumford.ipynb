{
 "cells": [
  {
   "cell_type": "code",
   "execution_count": 102,
   "metadata": {
    "ExecuteTime": {
     "end_time": "2019-10-28T00:45:13.280114Z",
     "start_time": "2019-10-28T00:45:13.113250Z"
    }
   },
   "outputs": [
    {
     "data": {
      "text/plain": [
       "[{'external_urls': {'spotify': 'https://open.spotify.com/artist/3gd8FJtBJtkRxdfbTu19U2'},\n",
       "  'href': 'https://api.spotify.com/v1/artists/3gd8FJtBJtkRxdfbTu19U2',\n",
       "  'id': '3gd8FJtBJtkRxdfbTu19U2',\n",
       "  'name': 'Mumford & Sons',\n",
       "  'type': 'artist',\n",
       "  'uri': 'spotify:artist:3gd8FJtBJtkRxdfbTu19U2'}]"
      ]
     },
     "execution_count": 102,
     "metadata": {},
     "output_type": "execute_result"
    }
   ],
   "source": [
    "import spotipy\n",
    "client_credentials_manager = SpotifyClientCredentials(client_id=client_id, client_secret=client_secret)\n",
    "sp = spotipy.Spotify(client_credentials_manager=client_credentials_manager) #spotify object to access API\n",
    "name = \"Mumford and Sons\" #chosen artist\n",
    "result = sp.search(name) #search query\n",
    "result['tracks']['items'][0]['artists']"
   ]
  },
  {
   "cell_type": "code",
   "execution_count": 103,
   "metadata": {
    "ExecuteTime": {
     "end_time": "2019-10-28T00:45:14.486689Z",
     "start_time": "2019-10-28T00:45:14.409626Z"
    }
   },
   "outputs": [
    {
     "data": {
      "text/plain": [
       "['spotify:album:3thbkS5Ijz41mAbAOat7wc',\n",
       " 'spotify:album:0Wmnkh4lzGy5rgkUPOjYbg',\n",
       " 'spotify:album:1PYJpLC45Fem1a30mwArtS',\n",
       " 'spotify:album:7LMz6ALQP2Jn9FdZmeeuiQ',\n",
       " 'spotify:album:6FRfKmRIKU2ofAnjJa6Lgp',\n",
       " 'spotify:album:7yVx5zJONB6MO8zL1jHN7i',\n",
       " 'spotify:album:42IW6zI4h5pYONN6UsYrqj',\n",
       " 'spotify:album:5OTuRTlvLK6R2hsLn9Zlvw',\n",
       " 'spotify:album:41wPd5bIqMP3BVTz23wxxP',\n",
       " 'spotify:album:7KqrcrbzYY9lKmIEnTIppe',\n",
       " 'spotify:album:22mQKTBcSHPyqhUqW7HTAW',\n",
       " 'spotify:album:7JiCwyAcpDgK7tBwbhKgCR',\n",
       " 'spotify:album:0l2HvlJbG95MErIOH0RixY',\n",
       " 'spotify:album:6KrqA4QfwBm5dIY6P9Pfef',\n",
       " 'spotify:album:6kYGJDsLoKB3oWhUfhHR7w',\n",
       " 'spotify:album:4yHxYRTHNocJenKZ4gQndD',\n",
       " 'spotify:album:5kaEEAwweoWCzWw5x7PHl7',\n",
       " 'spotify:album:6tybbZRux6W3R65wv6Tn0g',\n",
       " 'spotify:album:4QVDwpWrDPF2vUjlTHfRjr',\n",
       " 'spotify:album:4Blt0T4LKGdWreILkYZre3']"
      ]
     },
     "execution_count": 103,
     "metadata": {},
     "output_type": "execute_result"
    }
   ],
   "source": [
    "#Extract Artist's uri\n",
    "artist_uri = result['tracks']['items'][0]['artists'][0]['uri']\n",
    "#Pull all of the artist's albums\n",
    "sp_albums = sp.artist_albums(artist_uri, album_type='album')\n",
    "#Store artist's albums' names' and uris in separate lists\n",
    "album_names = []\n",
    "album_uris = []\n",
    "for i in range(len(sp_albums['items'])):\n",
    "    album_names.append(sp_albums['items'][i]['name'])\n",
    "    album_uris.append(sp_albums['items'][i]['uri'])\n",
    "    \n",
    "album_names\n",
    "album_uris\n",
    "#Keep names and uris in same order to keep track of duplicate albums"
   ]
  },
  {
   "cell_type": "code",
   "execution_count": 104,
   "metadata": {
    "ExecuteTime": {
     "end_time": "2019-10-28T00:45:16.602333Z",
     "start_time": "2019-10-28T00:45:15.358134Z"
    }
   },
   "outputs": [
    {
     "name": "stdout",
     "output_type": "stream",
     "text": [
      "Album Delta songs has been added to spotify_albums dictionary\n",
      "Album Delta songs has been added to spotify_albums dictionary\n",
      "Album Delta songs has been added to spotify_albums dictionary\n",
      "Album Wilder Mind songs has been added to spotify_albums dictionary\n",
      "Album Wilder Mind songs has been added to spotify_albums dictionary\n",
      "Album Wilder Mind songs has been added to spotify_albums dictionary\n",
      "Album Wilder Mind (Deluxe) songs has been added to spotify_albums dictionary\n",
      "Album Wilder Mind (Deluxe Version) songs has been added to spotify_albums dictionary\n",
      "Album Wilder Mind (Deluxe) songs has been added to spotify_albums dictionary\n",
      "Album Wilder Mind songs has been added to spotify_albums dictionary\n",
      "Album Wilder Mind (Deluxe) songs has been added to spotify_albums dictionary\n",
      "Album Sigh No More (Japanese Deluxe Version) songs has been added to spotify_albums dictionary\n",
      "Album Babel (Deluxe) songs has been added to spotify_albums dictionary\n",
      "Album Babel (Gentlemen Of The Road Edition) songs has been added to spotify_albums dictionary\n",
      "Album The Road To Red Rocks (Live) songs has been added to spotify_albums dictionary\n",
      "Album Sigh No More (Benelux Edition) songs has been added to spotify_albums dictionary\n",
      "Album Babel (Deluxe Version) songs has been added to spotify_albums dictionary\n",
      "Album Sigh No More songs has been added to spotify_albums dictionary\n",
      "Album Babel songs has been added to spotify_albums dictionary\n",
      "Album Babel (Deluxe Version) songs has been added to spotify_albums dictionary\n"
     ]
    }
   ],
   "source": [
    "def albumSongs(uri):\n",
    "    album = uri #assign album uri to a_name\n",
    "    spotify_albums[album] = {} #Creates dictionary for that specific album\n",
    "    #Create keys-values of empty lists inside nested dictionary for album\n",
    "    spotify_albums[album]['album'] = [] #create empty list\n",
    "    spotify_albums[album]['track_number'] = []\n",
    "    spotify_albums[album]['id'] = []\n",
    "    spotify_albums[album]['name'] = []\n",
    "    spotify_albums[album]['uri'] = []\n",
    "    tracks = sp.album_tracks(album) #pull data on album tracks\n",
    "    for n in range(len(tracks['items'])): #for each song track\n",
    "        spotify_albums[album]['album'].append(album_names[album_count]) #append album name tracked via album_count\n",
    "        spotify_albums[album]['track_number'].append(tracks['items'][n]['track_number'])\n",
    "        spotify_albums[album]['id'].append(tracks['items'][n]['id'])\n",
    "        spotify_albums[album]['name'].append(tracks['items'][n]['name'])\n",
    "        spotify_albums[album]['uri'].append(tracks['items'][n]['uri'])\n",
    "        \n",
    "spotify_albums = {}\n",
    "album_count = 0\n",
    "for i in album_uris: #each album\n",
    "    albumSongs(i)\n",
    "    print(\"Album \" + str(album_names[album_count]) + \" songs has been added to spotify_albums dictionary\")\n",
    "    album_count+=1 #Updates album count once all tracks have been added"
   ]
  },
  {
   "cell_type": "code",
   "execution_count": 105,
   "metadata": {
    "ExecuteTime": {
     "end_time": "2019-10-28T00:45:17.358130Z",
     "start_time": "2019-10-28T00:45:17.351521Z"
    }
   },
   "outputs": [],
   "source": [
    "def audio_features(album):\n",
    "    #Add new key-values to store audio features\n",
    "    spotify_albums[album]['acousticness'] = []\n",
    "    spotify_albums[album]['danceability'] = []\n",
    "    spotify_albums[album]['energy'] = []\n",
    "    spotify_albums[album]['instrumentalness'] = []\n",
    "    spotify_albums[album]['liveness'] = []\n",
    "    spotify_albums[album]['loudness'] = []\n",
    "    spotify_albums[album]['speechiness'] = []\n",
    "    spotify_albums[album]['tempo'] = []\n",
    "    spotify_albums[album]['valence'] = []\n",
    "    spotify_albums[album]['popularity'] = []\n",
    "    #create a track counter\n",
    "    track_count = 0\n",
    "    for track in spotify_albums[album]['uri']:\n",
    "        #pull audio features per track\n",
    "        features = sp.audio_features(track)\n",
    "        \n",
    "        #Append to relevant key-value\n",
    "        spotify_albums[album]['acousticness'].append(features[0]['acousticness'])\n",
    "        spotify_albums[album]['danceability'].append(features[0]['danceability'])\n",
    "        spotify_albums[album]['energy'].append(features[0]['energy'])\n",
    "        spotify_albums[album]['instrumentalness'].append(features[0]['instrumentalness'])\n",
    "        spotify_albums[album]['liveness'].append(features[0]['liveness'])\n",
    "        spotify_albums[album]['loudness'].append(features[0]['loudness'])\n",
    "        spotify_albums[album]['speechiness'].append(features[0]['speechiness'])\n",
    "        spotify_albums[album]['tempo'].append(features[0]['tempo'])\n",
    "        spotify_albums[album]['valence'].append(features[0]['valence'])\n",
    "        #popularity is stored elsewhere\n",
    "        pop = sp.track(track)\n",
    "        spotify_albums[album]['popularity'].append(pop['popularity'])\n",
    "        track_count+=1"
   ]
  },
  {
   "cell_type": "code",
   "execution_count": 106,
   "metadata": {
    "ExecuteTime": {
     "end_time": "2019-10-28T00:46:13.061553Z",
     "start_time": "2019-10-28T00:45:18.494830Z"
    }
   },
   "outputs": [
    {
     "name": "stdout",
     "output_type": "stream",
     "text": [
      "5 playlists completed\n",
      "Loop #: 5\n",
      "Elapsed Time: 11.325675010681152 seconds\n",
      "10 playlists completed\n",
      "Loop #: 10\n",
      "Elapsed Time: 22.080575942993164 seconds\n",
      "retrying ...4secs\n",
      "retrying ...1secs\n",
      "15 playlists completed\n",
      "Loop #: 15\n",
      "Elapsed Time: 44.7005250453949 seconds\n",
      "20 playlists completed\n",
      "Loop #: 20\n",
      "Elapsed Time: 54.558144092559814 seconds\n"
     ]
    }
   ],
   "source": [
    "import time\n",
    "import numpy as np\n",
    "sleep_min = 2\n",
    "sleep_max = 5\n",
    "start_time = time.time()\n",
    "request_count = 0\n",
    "for i in spotify_albums:\n",
    "    audio_features(i)\n",
    "    request_count+=1\n",
    "    if request_count % 5 == 0:\n",
    "        print(str(request_count) + \" playlists completed\")\n",
    "        time.sleep(np.random.uniform(sleep_min, sleep_max))\n",
    "        print('Loop #: {}'.format(request_count))\n",
    "        print('Elapsed Time: {} seconds'.format(time.time() - start_time))"
   ]
  },
  {
   "cell_type": "code",
   "execution_count": 107,
   "metadata": {
    "ExecuteTime": {
     "end_time": "2019-10-28T00:46:13.391576Z",
     "start_time": "2019-10-28T00:46:13.385752Z"
    }
   },
   "outputs": [
    {
     "data": {
      "text/plain": [
       "315"
      ]
     },
     "execution_count": 107,
     "metadata": {},
     "output_type": "execute_result"
    }
   ],
   "source": [
    "dic_df = {}\n",
    "dic_df['album'] = []\n",
    "dic_df['track_number'] = []\n",
    "dic_df['id'] = []\n",
    "dic_df['name'] = []\n",
    "dic_df['uri'] = []\n",
    "dic_df['acousticness'] = []\n",
    "dic_df['danceability'] = []\n",
    "dic_df['energy'] = []\n",
    "dic_df['instrumentalness'] = []\n",
    "dic_df['liveness'] = []\n",
    "dic_df['loudness'] = []\n",
    "dic_df['speechiness'] = []\n",
    "dic_df['tempo'] = []\n",
    "dic_df['valence'] = []\n",
    "dic_df['popularity'] = []\n",
    "for album in spotify_albums: \n",
    "    for feature in spotify_albums[album]:\n",
    "        dic_df[feature].extend(spotify_albums[album][feature])\n",
    "        \n",
    "len(dic_df['album'])"
   ]
  },
  {
   "cell_type": "code",
   "execution_count": 108,
   "metadata": {
    "ExecuteTime": {
     "end_time": "2019-10-28T00:46:13.698664Z",
     "start_time": "2019-10-28T00:46:13.667128Z"
    }
   },
   "outputs": [
    {
     "name": "stdout",
     "output_type": "stream",
     "text": [
      "315\n"
     ]
    },
    {
     "data": {
      "text/html": [
       "<div>\n",
       "<style scoped>\n",
       "    .dataframe tbody tr th:only-of-type {\n",
       "        vertical-align: middle;\n",
       "    }\n",
       "\n",
       "    .dataframe tbody tr th {\n",
       "        vertical-align: top;\n",
       "    }\n",
       "\n",
       "    .dataframe thead th {\n",
       "        text-align: right;\n",
       "    }\n",
       "</style>\n",
       "<table border=\"1\" class=\"dataframe\">\n",
       "  <thead>\n",
       "    <tr style=\"text-align: right;\">\n",
       "      <th></th>\n",
       "      <th>album</th>\n",
       "      <th>track_number</th>\n",
       "      <th>id</th>\n",
       "      <th>name</th>\n",
       "      <th>uri</th>\n",
       "      <th>acousticness</th>\n",
       "      <th>danceability</th>\n",
       "      <th>energy</th>\n",
       "      <th>instrumentalness</th>\n",
       "      <th>liveness</th>\n",
       "      <th>loudness</th>\n",
       "      <th>speechiness</th>\n",
       "      <th>tempo</th>\n",
       "      <th>valence</th>\n",
       "      <th>popularity</th>\n",
       "    </tr>\n",
       "  </thead>\n",
       "  <tbody>\n",
       "    <tr>\n",
       "      <td>0</td>\n",
       "      <td>Delta</td>\n",
       "      <td>1</td>\n",
       "      <td>1xjIDl9Eh5lBMjIRqMnAZL</td>\n",
       "      <td>42</td>\n",
       "      <td>spotify:track:1xjIDl9Eh5lBMjIRqMnAZL</td>\n",
       "      <td>0.22700</td>\n",
       "      <td>0.331</td>\n",
       "      <td>0.523</td>\n",
       "      <td>0.00114</td>\n",
       "      <td>0.1440</td>\n",
       "      <td>-8.321</td>\n",
       "      <td>0.0375</td>\n",
       "      <td>87.782</td>\n",
       "      <td>0.3050</td>\n",
       "      <td>57</td>\n",
       "    </tr>\n",
       "    <tr>\n",
       "      <td>3</td>\n",
       "      <td>Delta</td>\n",
       "      <td>4</td>\n",
       "      <td>5V0nHhlYIjUMfcSoJ5ziRD</td>\n",
       "      <td>Beloved</td>\n",
       "      <td>spotify:track:5V0nHhlYIjUMfcSoJ5ziRD</td>\n",
       "      <td>0.00539</td>\n",
       "      <td>0.445</td>\n",
       "      <td>0.773</td>\n",
       "      <td>0.15300</td>\n",
       "      <td>0.1310</td>\n",
       "      <td>-7.227</td>\n",
       "      <td>0.0441</td>\n",
       "      <td>191.966</td>\n",
       "      <td>0.3130</td>\n",
       "      <td>64</td>\n",
       "    </tr>\n",
       "    <tr>\n",
       "      <td>4</td>\n",
       "      <td>Delta</td>\n",
       "      <td>5</td>\n",
       "      <td>4W3LpDT8Z1DrlzOrLUkoo4</td>\n",
       "      <td>The Wild</td>\n",
       "      <td>spotify:track:4W3LpDT8Z1DrlzOrLUkoo4</td>\n",
       "      <td>0.73400</td>\n",
       "      <td>0.465</td>\n",
       "      <td>0.267</td>\n",
       "      <td>0.67800</td>\n",
       "      <td>0.2050</td>\n",
       "      <td>-14.264</td>\n",
       "      <td>0.0315</td>\n",
       "      <td>132.002</td>\n",
       "      <td>0.0757</td>\n",
       "      <td>58</td>\n",
       "    </tr>\n",
       "    <tr>\n",
       "      <td>5</td>\n",
       "      <td>Delta</td>\n",
       "      <td>6</td>\n",
       "      <td>3JD5xfa8pgJi0AzdRCRETW</td>\n",
       "      <td>October Skies</td>\n",
       "      <td>spotify:track:3JD5xfa8pgJi0AzdRCRETW</td>\n",
       "      <td>0.83700</td>\n",
       "      <td>0.468</td>\n",
       "      <td>0.182</td>\n",
       "      <td>0.01320</td>\n",
       "      <td>0.0678</td>\n",
       "      <td>-15.562</td>\n",
       "      <td>0.0401</td>\n",
       "      <td>155.102</td>\n",
       "      <td>0.0382</td>\n",
       "      <td>55</td>\n",
       "    </tr>\n",
       "    <tr>\n",
       "      <td>7</td>\n",
       "      <td>Delta</td>\n",
       "      <td>8</td>\n",
       "      <td>0SwB9nk7EfDUnIGbz7Go9G</td>\n",
       "      <td>Rose Of Sharon</td>\n",
       "      <td>spotify:track:0SwB9nk7EfDUnIGbz7Go9G</td>\n",
       "      <td>0.32800</td>\n",
       "      <td>0.670</td>\n",
       "      <td>0.567</td>\n",
       "      <td>0.01500</td>\n",
       "      <td>0.0873</td>\n",
       "      <td>-9.732</td>\n",
       "      <td>0.0357</td>\n",
       "      <td>139.995</td>\n",
       "      <td>0.4340</td>\n",
       "      <td>56</td>\n",
       "    </tr>\n",
       "  </tbody>\n",
       "</table>\n",
       "</div>"
      ],
      "text/plain": [
       "   album  track_number                      id            name  \\\n",
       "0  Delta             1  1xjIDl9Eh5lBMjIRqMnAZL              42   \n",
       "3  Delta             4  5V0nHhlYIjUMfcSoJ5ziRD         Beloved   \n",
       "4  Delta             5  4W3LpDT8Z1DrlzOrLUkoo4        The Wild   \n",
       "5  Delta             6  3JD5xfa8pgJi0AzdRCRETW   October Skies   \n",
       "7  Delta             8  0SwB9nk7EfDUnIGbz7Go9G  Rose Of Sharon   \n",
       "\n",
       "                                    uri  acousticness  danceability  energy  \\\n",
       "0  spotify:track:1xjIDl9Eh5lBMjIRqMnAZL       0.22700         0.331   0.523   \n",
       "3  spotify:track:5V0nHhlYIjUMfcSoJ5ziRD       0.00539         0.445   0.773   \n",
       "4  spotify:track:4W3LpDT8Z1DrlzOrLUkoo4       0.73400         0.465   0.267   \n",
       "5  spotify:track:3JD5xfa8pgJi0AzdRCRETW       0.83700         0.468   0.182   \n",
       "7  spotify:track:0SwB9nk7EfDUnIGbz7Go9G       0.32800         0.670   0.567   \n",
       "\n",
       "   instrumentalness  liveness  loudness  speechiness    tempo  valence  \\\n",
       "0           0.00114    0.1440    -8.321       0.0375   87.782   0.3050   \n",
       "3           0.15300    0.1310    -7.227       0.0441  191.966   0.3130   \n",
       "4           0.67800    0.2050   -14.264       0.0315  132.002   0.0757   \n",
       "5           0.01320    0.0678   -15.562       0.0401  155.102   0.0382   \n",
       "7           0.01500    0.0873    -9.732       0.0357  139.995   0.4340   \n",
       "\n",
       "   popularity  \n",
       "0          57  \n",
       "3          64  \n",
       "4          58  \n",
       "5          55  \n",
       "7          56  "
      ]
     },
     "execution_count": 108,
     "metadata": {},
     "output_type": "execute_result"
    }
   ],
   "source": [
    "import pandas as pd\n",
    "df = pd.DataFrame.from_dict(dic_df)\n",
    "print(len(df))\n",
    "final_df = df.sort_values('popularity', ascending=False).drop_duplicates('name').sort_index()\n",
    "final_df.head()"
   ]
  },
  {
   "cell_type": "code",
   "execution_count": 109,
   "metadata": {
    "ExecuteTime": {
     "end_time": "2019-10-28T00:46:14.012116Z",
     "start_time": "2019-10-28T00:46:13.991706Z"
    }
   },
   "outputs": [],
   "source": [
    "final_df.to_csv(\"/Users/sejaldua/Desktop/DIS/spotify_proj/mumford.csv\")\n"
   ]
  },
  {
   "cell_type": "code",
   "execution_count": null,
   "metadata": {
    "ExecuteTime": {
     "end_time": "2019-10-27T00:40:34.668050Z",
     "start_time": "2019-10-27T00:40:34.610490Z"
    }
   },
   "outputs": [],
   "source": []
  },
  {
   "cell_type": "code",
   "execution_count": null,
   "metadata": {},
   "outputs": [],
   "source": []
  },
  {
   "cell_type": "code",
   "execution_count": 134,
   "metadata": {
    "ExecuteTime": {
     "end_time": "2019-10-28T00:59:41.269500Z",
     "start_time": "2019-10-28T00:59:40.894199Z"
    }
   },
   "outputs": [
    {
     "name": "stdout",
     "output_type": "stream",
     "text": [
      "[0.227, 0.331, 0.523, 0.00114, 0.48767777777777777]\n"
     ]
    },
    {
     "data": {
      "text/plain": [
       "<matplotlib.legend.Legend at 0x11cce3be0>"
      ]
     },
     "execution_count": 134,
     "metadata": {},
     "output_type": "execute_result"
    },
    {
     "data": {
      "image/png": "[encoded data removed]",
      "text/plain": [
       "<Figure size 432x432 with 1 Axes>"
      ]
     },
     "metadata": {},
     "output_type": "display_data"
    }
   ],
   "source": [
    "# labels = ['Acceleration', 'Displacement', 'Horsepower', 'MPG', 'Weight']\n",
    "import matplotlib.pyplot as plt\n",
    "# Let's look at the 1970 Chevy Impala and plot it.\n",
    "# values = final_df.loc['chevrolet impala 1970'].tolist()\n",
    "labels = ['acousticness', 'danceability', 'energy', 'instrumentalness', 'tempo']\n",
    "new_df = final_df.loc[ : , ['name', 'acousticness', 'danceability', 'energy', 'instrumentalness', 'tempo'] ]\n",
    "new_df.set_index('name', inplace=True)\n",
    "new_df.head()\n",
    "values = new_df.loc['42'].tolist()\n",
    "values[-1] = values[-1]/180\n",
    "print(values)\n",
    "\n",
    "# Number of variables we're plotting.\n",
    "num_vars = len(labels)\n",
    "\n",
    "# Split the circle into even parts and save the angles\n",
    "# so we know where to put each axis.\n",
    "angles = np.linspace(0, 2 * np.pi, num_vars, endpoint=False).tolist()\n",
    "\n",
    "# The plot is a circle, so we need to \"complete the loop\"\n",
    "# and append the start value to the end.\n",
    "values += values[:1]\n",
    "angles += angles[:1]\n",
    "\n",
    "# ax = plt.subplot(polar=True)\n",
    "fig, ax = plt.subplots(figsize=(6, 6), subplot_kw=dict(polar=True))\n",
    "\n",
    "# Draw the outline of our data.\n",
    "ax.plot(angles, values, color='red', linewidth=1)\n",
    "# Fill it in.\n",
    "ax.fill(angles, values, color='red', alpha=0.25)\n",
    "\n",
    "ax.set_theta_offset(np.pi / 2)\n",
    "ax.set_theta_direction(-1)\n",
    "\n",
    "# Draw axis lines for each angle and label.\n",
    "ax.set_thetagrids(np.degrees(angles), labels)\n",
    "\n",
    "# Go through labels and adjust alignment based on where\n",
    "# it is in the circle.\n",
    "for label, angle in zip(ax.get_xticklabels(), angles):\n",
    "  if angle in (0, np.pi):\n",
    "    label.set_horizontalalignment('center')\n",
    "  elif 0 < angle < np.pi:\n",
    "    label.set_horizontalalignment('left')\n",
    "  else:\n",
    "    label.set_horizontalalignment('right')\n",
    "    \n",
    "ax.set_ylim(0, 1)\n",
    "# You can also set gridlines manually like this:\n",
    "# ax.set_rgrids([20, 40, 60, 80, 100])\n",
    "\n",
    "# Helper function to plot each car on the radar chart.\n",
    "def add_to_radar(song_name, color):\n",
    "  values = new_df.loc[song_name].tolist()\n",
    "  values[-1] = values[-1]/180\n",
    "  values += values[:1]\n",
    "  ax.plot(angles, values, color=color, linewidth=1, label=song_name)\n",
    "  ax.fill(angles, values, color=color, alpha=0.25)\n",
    "\n",
    "# Add each car to the chart.\n",
    "add_to_radar('After The Storm', '#1aaf6c')\n",
    "add_to_radar('Guiding Light', '#429bf4')\n",
    "add_to_radar('Little Lion Man', '#d42cea')\n",
    "add_to_radar('I Will Wait', '#de326b')\n",
    "add_to_radar('Rose Of Sharon', '#b42ffa')\n",
    "\n",
    "# Set position of y-labels (0-100) to be in the middle\n",
    "# of the first two axes.\n",
    "ax.set_rlabel_position(180 / num_vars)\n",
    "\n",
    "# Add some custom styling.\n",
    "# Change the color of the tick labels.\n",
    "ax.tick_params(colors='#222222')\n",
    "# Make the y-axis (0-100) labels smaller.\n",
    "ax.tick_params(axis='y', labelsize=8)\n",
    "# Change the color of the circular gridlines.\n",
    "ax.grid(color='#AAAAAA')\n",
    "# Change the color of the outermost gridline (the spine).\n",
    "ax.spines['polar'].set_color('#222222')\n",
    "# Change the background color inside the circle itself.\n",
    "ax.set_facecolor('#FAFAFA')\n",
    "\n",
    "# Lastly, give the chart a title and give it some\n",
    "# padding above the \"Acceleration\" label.\n",
    "ax.set_title('42 - Mumford and Sons', y=1.08)\n",
    "\n",
    "ax.legend(loc='upper right', bbox_to_anchor=(1.3, 1.1))"
   ]
  },
  {
   "cell_type": "code",
   "execution_count": 79,
   "metadata": {
    "ExecuteTime": {
     "end_time": "2019-10-27T23:17:13.331458Z",
     "start_time": "2019-10-27T23:17:13.325378Z"
    }
   },
   "outputs": [],
   "source": []
  },
  {
   "cell_type": "code",
   "execution_count": null,
   "metadata": {},
   "outputs": [],
   "source": []
  }
 ],
 "metadata": {
  "kernelspec": {
   "display_name": "Python 3",
   "language": "python",
   "name": "python3"
  },
  "language_info": {
   "codemirror_mode": {
    "name": "ipython",
    "version": 3
   },
   "file_extension": ".py",
   "mimetype": "text/x-python",
   "name": "python",
   "nbconvert_exporter": "python",
   "pygments_lexer": "ipython3",
   "version": "3.6.6"
  },
  "toc": {
   "base_numbering": 1,
   "nav_menu": {},
   "number_sections": true,
   "sideBar": true,
   "skip_h1_title": false,
   "title_cell": "Table of Contents",
   "title_sidebar": "Contents",
   "toc_cell": false,
   "toc_position": {},
   "toc_section_display": true,
   "toc_window_display": false
  },
  "varInspector": {
   "cols": {
    "lenName": 16,
    "lenType": 16,
    "lenVar": 40
   },
   "kernels_config": {
    "python": {
     "delete_cmd_postfix": "",
     "delete_cmd_prefix": "del ",
     "library": "var_list.py",
     "varRefreshCmd": "print(var_dic_list())"
    },
    "r": {
     "delete_cmd_postfix": ") ",
     "delete_cmd_prefix": "rm(",
     "library": "var_list.r",
     "varRefreshCmd": "cat(var_dic_list()) "
    }
   },
   "types_to_exclude": [
    "module",
    "function",
    "builtin_function_or_method",
    "instance",
    "_Feature"
   ],
   "window_display": false
  }
 },
 "nbformat": 4,
 "nbformat_minor": 2
}
