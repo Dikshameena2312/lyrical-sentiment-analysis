{
 "cells": [
  {
   "cell_type": "code",
   "execution_count": 136,
   "metadata": {
    "ExecuteTime": {
     "end_time": "2019-10-29T23:13:27.969622Z",
     "start_time": "2019-10-29T23:13:27.793502Z"
    }
   },
   "outputs": [
    {
     "data": {
      "text/plain": [
       "[{'external_urls': {'spotify': 'https://open.spotify.com/artist/163tK9Wjr9P9DmM0AVK7lm'},\n",
       "  'href': 'https://api.spotify.com/v1/artists/163tK9Wjr9P9DmM0AVK7lm',\n",
       "  'id': '163tK9Wjr9P9DmM0AVK7lm',\n",
       "  'name': 'Lorde',\n",
       "  'type': 'artist',\n",
       "  'uri': 'spotify:artist:163tK9Wjr9P9DmM0AVK7lm'}]"
      ]
     },
     "execution_count": 136,
     "metadata": {},
     "output_type": "execute_result"
    }
   ],
   "source": [
    "import spotipy\n",
    "client_credentials_manager = SpotifyClientCredentials(client_id=client_id, client_secret=client_secret)\n",
    "sp = spotipy.Spotify(client_credentials_manager=client_credentials_manager) #spotify object to access API\n",
    "name = \"Lorde\" #chosen artist\n",
    "result = sp.search(name) #search query\n",
    "result['tracks']['items'][0]['artists']"
   ]
  },
  {
   "cell_type": "code",
   "execution_count": 137,
   "metadata": {
    "ExecuteTime": {
     "end_time": "2019-10-29T23:13:30.164586Z",
     "start_time": "2019-10-29T23:13:30.096260Z"
    }
   },
   "outputs": [
    {
     "data": {
      "text/plain": [
       "['spotify:album:4oCGmYsAQOWt2ACWTpNUU6',\n",
       " 'spotify:album:6tBpgZG9bV76nSuiz42RbA',\n",
       " 'spotify:album:2B87zXm9bOWvAJdkJBTpzF',\n",
       " 'spotify:album:0RprDFd8KN06rt0jyKXBsC',\n",
       " 'spotify:album:2nPokmAvYy5qYO4rFU7ZDm',\n",
       " 'spotify:album:0rmhjUgoVa17LZuS8xWQ3v',\n",
       " 'spotify:album:6rnzvZhe3PA57xKcKLRtJ6']"
      ]
     },
     "execution_count": 137,
     "metadata": {},
     "output_type": "execute_result"
    }
   ],
   "source": [
    "#Extract Artist's uri\n",
    "artist_uri = result['tracks']['items'][0]['artists'][0]['uri']\n",
    "#Pull all of the artist's albums\n",
    "sp_albums = sp.artist_albums(artist_uri, album_type='album')\n",
    "#Store artist's albums' names' and uris in separate lists\n",
    "album_names = []\n",
    "album_uris = []\n",
    "for i in range(len(sp_albums['items'])):\n",
    "    album_names.append(sp_albums['items'][i]['name'])\n",
    "    album_uris.append(sp_albums['items'][i]['uri'])\n",
    "    \n",
    "album_names\n",
    "album_uris\n",
    "#Keep names and uris in same order to keep track of duplicate albums"
   ]
  },
  {
   "cell_type": "code",
   "execution_count": 138,
   "metadata": {
    "ExecuteTime": {
     "end_time": "2019-10-29T23:13:31.969947Z",
     "start_time": "2019-10-29T23:13:31.555723Z"
    }
   },
   "outputs": [
    {
     "name": "stdout",
     "output_type": "stream",
     "text": [
      "Album Melodrama songs has been added to spotify_albums dictionary\n",
      "Album Melodrama songs has been added to spotify_albums dictionary\n",
      "Album Melodrama songs has been added to spotify_albums dictionary\n",
      "Album Melodrama songs has been added to spotify_albums dictionary\n",
      "Album Pure Heroine songs has been added to spotify_albums dictionary\n",
      "Album Pure Heroine songs has been added to spotify_albums dictionary\n",
      "Album Pure Heroine (Extended) songs has been added to spotify_albums dictionary\n"
     ]
    }
   ],
   "source": [
    "def albumSongs(uri):\n",
    "    album = uri #assign album uri to a_name\n",
    "    spotify_albums[album] = {} #Creates dictionary for that specific album\n",
    "    #Create keys-values of empty lists inside nested dictionary for album\n",
    "    spotify_albums[album]['album'] = [] #create empty list\n",
    "    spotify_albums[album]['track_number'] = []\n",
    "    spotify_albums[album]['id'] = []\n",
    "    spotify_albums[album]['name'] = []\n",
    "    spotify_albums[album]['uri'] = []\n",
    "    tracks = sp.album_tracks(album) #pull data on album tracks\n",
    "    for n in range(len(tracks['items'])): #for each song track\n",
    "        spotify_albums[album]['album'].append(album_names[album_count]) #append album name tracked via album_count\n",
    "        spotify_albums[album]['track_number'].append(tracks['items'][n]['track_number'])\n",
    "        spotify_albums[album]['id'].append(tracks['items'][n]['id'])\n",
    "        spotify_albums[album]['name'].append(tracks['items'][n]['name'])\n",
    "        spotify_albums[album]['uri'].append(tracks['items'][n]['uri'])\n",
    "        \n",
    "spotify_albums = {}\n",
    "album_count = 0\n",
    "for i in album_uris: #each album\n",
    "    albumSongs(i)\n",
    "    print(\"Album \" + str(album_names[album_count]) + \" songs has been added to spotify_albums dictionary\")\n",
    "    album_count+=1 #Updates album count once all tracks have been added"
   ]
  },
  {
   "cell_type": "code",
   "execution_count": 139,
   "metadata": {
    "ExecuteTime": {
     "end_time": "2019-10-29T23:13:45.823404Z",
     "start_time": "2019-10-29T23:13:45.813731Z"
    }
   },
   "outputs": [],
   "source": [
    "def audio_features(album):\n",
    "    #Add new key-values to store audio features\n",
    "    spotify_albums[album]['acousticness'] = []\n",
    "    spotify_albums[album]['danceability'] = []\n",
    "    spotify_albums[album]['energy'] = []\n",
    "    spotify_albums[album]['instrumentalness'] = []\n",
    "    spotify_albums[album]['liveness'] = []\n",
    "    spotify_albums[album]['loudness'] = []\n",
    "    spotify_albums[album]['speechiness'] = []\n",
    "    spotify_albums[album]['tempo'] = []\n",
    "    spotify_albums[album]['valence'] = []\n",
    "    spotify_albums[album]['popularity'] = []\n",
    "    #create a track counter\n",
    "    track_count = 0\n",
    "    for track in spotify_albums[album]['uri']:\n",
    "        #pull audio features per track\n",
    "        features = sp.audio_features(track)\n",
    "        \n",
    "        #Append to relevant key-value\n",
    "        spotify_albums[album]['acousticness'].append(features[0]['acousticness'])\n",
    "        spotify_albums[album]['danceability'].append(features[0]['danceability'])\n",
    "        spotify_albums[album]['energy'].append(features[0]['energy'])\n",
    "        spotify_albums[album]['instrumentalness'].append(features[0]['instrumentalness'])\n",
    "        spotify_albums[album]['liveness'].append(features[0]['liveness'])\n",
    "        spotify_albums[album]['loudness'].append(features[0]['loudness'])\n",
    "        spotify_albums[album]['speechiness'].append(features[0]['speechiness'])\n",
    "        spotify_albums[album]['tempo'].append(features[0]['tempo'])\n",
    "        spotify_albums[album]['valence'].append(features[0]['valence'])\n",
    "        #popularity is stored elsewhere\n",
    "        pop = sp.track(track)\n",
    "        spotify_albums[album]['popularity'].append(pop['popularity'])\n",
    "        track_count+=1"
   ]
  },
  {
   "cell_type": "code",
   "execution_count": 140,
   "metadata": {
    "ExecuteTime": {
     "end_time": "2019-10-29T23:13:59.309856Z",
     "start_time": "2019-10-29T23:13:48.340607Z"
    }
   },
   "outputs": [
    {
     "name": "stdout",
     "output_type": "stream",
     "text": [
      "5 playlists completed\n",
      "Loop #: 5\n",
      "Elapsed Time: 8.23931884765625 seconds\n"
     ]
    }
   ],
   "source": [
    "import time\n",
    "import numpy as np\n",
    "sleep_min = 2\n",
    "sleep_max = 5\n",
    "start_time = time.time()\n",
    "request_count = 0\n",
    "for i in spotify_albums:\n",
    "    audio_features(i)\n",
    "    request_count+=1\n",
    "    if request_count % 5 == 0:\n",
    "        print(str(request_count) + \" playlists completed\")\n",
    "        time.sleep(np.random.uniform(sleep_min, sleep_max))\n",
    "        print('Loop #: {}'.format(request_count))\n",
    "        print('Elapsed Time: {} seconds'.format(time.time() - start_time))"
   ]
  },
  {
   "cell_type": "code",
   "execution_count": 141,
   "metadata": {
    "ExecuteTime": {
     "end_time": "2019-10-29T23:13:59.814398Z",
     "start_time": "2019-10-29T23:13:59.804920Z"
    }
   },
   "outputs": [
    {
     "data": {
      "text/plain": [
       "84"
      ]
     },
     "execution_count": 141,
     "metadata": {},
     "output_type": "execute_result"
    }
   ],
   "source": [
    "dic_df = {}\n",
    "dic_df['album'] = []\n",
    "dic_df['track_number'] = []\n",
    "dic_df['id'] = []\n",
    "dic_df['name'] = []\n",
    "dic_df['uri'] = []\n",
    "dic_df['acousticness'] = []\n",
    "dic_df['danceability'] = []\n",
    "dic_df['energy'] = []\n",
    "dic_df['instrumentalness'] = []\n",
    "dic_df['liveness'] = []\n",
    "dic_df['loudness'] = []\n",
    "dic_df['speechiness'] = []\n",
    "dic_df['tempo'] = []\n",
    "dic_df['valence'] = []\n",
    "dic_df['popularity'] = []\n",
    "for album in spotify_albums: \n",
    "    for feature in spotify_albums[album]:\n",
    "        dic_df[feature].extend(spotify_albums[album][feature])\n",
    "        \n",
    "len(dic_df['album'])"
   ]
  },
  {
   "cell_type": "code",
   "execution_count": 142,
   "metadata": {
    "ExecuteTime": {
     "end_time": "2019-10-29T23:14:00.376144Z",
     "start_time": "2019-10-29T23:14:00.338863Z"
    }
   },
   "outputs": [
    {
     "name": "stdout",
     "output_type": "stream",
     "text": [
      "84\n"
     ]
    },
    {
     "data": {
      "text/html": [
       "<div>\n",
       "<style scoped>\n",
       "    .dataframe tbody tr th:only-of-type {\n",
       "        vertical-align: middle;\n",
       "    }\n",
       "\n",
       "    .dataframe tbody tr th {\n",
       "        vertical-align: top;\n",
       "    }\n",
       "\n",
       "    .dataframe thead th {\n",
       "        text-align: right;\n",
       "    }\n",
       "</style>\n",
       "<table border=\"1\" class=\"dataframe\">\n",
       "  <thead>\n",
       "    <tr style=\"text-align: right;\">\n",
       "      <th></th>\n",
       "      <th>album</th>\n",
       "      <th>track_number</th>\n",
       "      <th>id</th>\n",
       "      <th>name</th>\n",
       "      <th>uri</th>\n",
       "      <th>acousticness</th>\n",
       "      <th>danceability</th>\n",
       "      <th>energy</th>\n",
       "      <th>instrumentalness</th>\n",
       "      <th>liveness</th>\n",
       "      <th>loudness</th>\n",
       "      <th>speechiness</th>\n",
       "      <th>tempo</th>\n",
       "      <th>valence</th>\n",
       "      <th>popularity</th>\n",
       "    </tr>\n",
       "  </thead>\n",
       "  <tbody>\n",
       "    <tr>\n",
       "      <td>11</td>\n",
       "      <td>Melodrama</td>\n",
       "      <td>12</td>\n",
       "      <td>5u64RlrnvvbtNh6R0EMh6o</td>\n",
       "      <td>Homemade Dynamite - REMIX</td>\n",
       "      <td>spotify:track:5u64RlrnvvbtNh6R0EMh6o</td>\n",
       "      <td>0.2290</td>\n",
       "      <td>0.781</td>\n",
       "      <td>0.548</td>\n",
       "      <td>0.000000</td>\n",
       "      <td>0.1270</td>\n",
       "      <td>-4.997</td>\n",
       "      <td>0.0764</td>\n",
       "      <td>106.996</td>\n",
       "      <td>0.175</td>\n",
       "      <td>68</td>\n",
       "    </tr>\n",
       "    <tr>\n",
       "      <td>24</td>\n",
       "      <td>Melodrama</td>\n",
       "      <td>1</td>\n",
       "      <td>6ie2Bw3xLj2JcGowOlcMhb</td>\n",
       "      <td>Green Light</td>\n",
       "      <td>spotify:track:6ie2Bw3xLj2JcGowOlcMhb</td>\n",
       "      <td>0.0209</td>\n",
       "      <td>0.594</td>\n",
       "      <td>0.721</td>\n",
       "      <td>0.000009</td>\n",
       "      <td>0.0879</td>\n",
       "      <td>-7.812</td>\n",
       "      <td>0.0957</td>\n",
       "      <td>128.942</td>\n",
       "      <td>0.253</td>\n",
       "      <td>75</td>\n",
       "    </tr>\n",
       "    <tr>\n",
       "      <td>25</td>\n",
       "      <td>Melodrama</td>\n",
       "      <td>2</td>\n",
       "      <td>7eElVgPcxDqmgGrSwVFI74</td>\n",
       "      <td>Sober</td>\n",
       "      <td>spotify:track:7eElVgPcxDqmgGrSwVFI74</td>\n",
       "      <td>0.1730</td>\n",
       "      <td>0.796</td>\n",
       "      <td>0.467</td>\n",
       "      <td>0.004110</td>\n",
       "      <td>0.1260</td>\n",
       "      <td>-10.369</td>\n",
       "      <td>0.1810</td>\n",
       "      <td>107.901</td>\n",
       "      <td>0.516</td>\n",
       "      <td>61</td>\n",
       "    </tr>\n",
       "    <tr>\n",
       "      <td>26</td>\n",
       "      <td>Melodrama</td>\n",
       "      <td>3</td>\n",
       "      <td>02oAUzv4M0ItuTDy2RT3IT</td>\n",
       "      <td>Homemade Dynamite</td>\n",
       "      <td>spotify:track:02oAUzv4M0ItuTDy2RT3IT</td>\n",
       "      <td>0.2870</td>\n",
       "      <td>0.771</td>\n",
       "      <td>0.431</td>\n",
       "      <td>0.000003</td>\n",
       "      <td>0.0934</td>\n",
       "      <td>-5.423</td>\n",
       "      <td>0.0577</td>\n",
       "      <td>107.047</td>\n",
       "      <td>0.268</td>\n",
       "      <td>62</td>\n",
       "    </tr>\n",
       "    <tr>\n",
       "      <td>27</td>\n",
       "      <td>Melodrama</td>\n",
       "      <td>4</td>\n",
       "      <td>5q4BpnMrYEFzLO0dYODj6J</td>\n",
       "      <td>The Louvre</td>\n",
       "      <td>spotify:track:5q4BpnMrYEFzLO0dYODj6J</td>\n",
       "      <td>0.2390</td>\n",
       "      <td>0.664</td>\n",
       "      <td>0.382</td>\n",
       "      <td>0.007490</td>\n",
       "      <td>0.0943</td>\n",
       "      <td>-9.977</td>\n",
       "      <td>0.0470</td>\n",
       "      <td>123.214</td>\n",
       "      <td>0.126</td>\n",
       "      <td>64</td>\n",
       "    </tr>\n",
       "  </tbody>\n",
       "</table>\n",
       "</div>"
      ],
      "text/plain": [
       "        album  track_number                      id  \\\n",
       "11  Melodrama            12  5u64RlrnvvbtNh6R0EMh6o   \n",
       "24  Melodrama             1  6ie2Bw3xLj2JcGowOlcMhb   \n",
       "25  Melodrama             2  7eElVgPcxDqmgGrSwVFI74   \n",
       "26  Melodrama             3  02oAUzv4M0ItuTDy2RT3IT   \n",
       "27  Melodrama             4  5q4BpnMrYEFzLO0dYODj6J   \n",
       "\n",
       "                         name                                   uri  \\\n",
       "11  Homemade Dynamite - REMIX  spotify:track:5u64RlrnvvbtNh6R0EMh6o   \n",
       "24                Green Light  spotify:track:6ie2Bw3xLj2JcGowOlcMhb   \n",
       "25                      Sober  spotify:track:7eElVgPcxDqmgGrSwVFI74   \n",
       "26          Homemade Dynamite  spotify:track:02oAUzv4M0ItuTDy2RT3IT   \n",
       "27                 The Louvre  spotify:track:5q4BpnMrYEFzLO0dYODj6J   \n",
       "\n",
       "    acousticness  danceability  energy  instrumentalness  liveness  loudness  \\\n",
       "11        0.2290         0.781   0.548          0.000000    0.1270    -4.997   \n",
       "24        0.0209         0.594   0.721          0.000009    0.0879    -7.812   \n",
       "25        0.1730         0.796   0.467          0.004110    0.1260   -10.369   \n",
       "26        0.2870         0.771   0.431          0.000003    0.0934    -5.423   \n",
       "27        0.2390         0.664   0.382          0.007490    0.0943    -9.977   \n",
       "\n",
       "    speechiness    tempo  valence  popularity  \n",
       "11       0.0764  106.996    0.175          68  \n",
       "24       0.0957  128.942    0.253          75  \n",
       "25       0.1810  107.901    0.516          61  \n",
       "26       0.0577  107.047    0.268          62  \n",
       "27       0.0470  123.214    0.126          64  "
      ]
     },
     "execution_count": 142,
     "metadata": {},
     "output_type": "execute_result"
    }
   ],
   "source": [
    "import pandas as pd\n",
    "df = pd.DataFrame.from_dict(dic_df)\n",
    "print(len(df))\n",
    "final_df = df.sort_values('popularity', ascending=False).drop_duplicates('name').sort_index()\n",
    "final_df.head()"
   ]
  },
  {
   "cell_type": "code",
   "execution_count": 143,
   "metadata": {
    "ExecuteTime": {
     "end_time": "2019-10-29T23:14:04.957106Z",
     "start_time": "2019-10-29T23:14:04.943514Z"
    }
   },
   "outputs": [],
   "source": [
    "final_df.to_csv(\"/Users/sejaldua/Desktop/DIS/spotify_proj/lorde.csv\")\n"
   ]
  },
  {
   "cell_type": "code",
   "execution_count": null,
   "metadata": {
    "ExecuteTime": {
     "end_time": "2019-10-27T00:40:34.668050Z",
     "start_time": "2019-10-27T00:40:34.610490Z"
    }
   },
   "outputs": [],
   "source": []
  },
  {
   "cell_type": "code",
   "execution_count": null,
   "metadata": {},
   "outputs": [],
   "source": []
  },
  {
   "cell_type": "code",
   "execution_count": 152,
   "metadata": {
    "ExecuteTime": {
     "end_time": "2019-10-29T23:17:43.107186Z",
     "start_time": "2019-10-29T23:17:42.732563Z"
    }
   },
   "outputs": [
    {
     "name": "stdout",
     "output_type": "stream",
     "text": [
      "[0.526, 0.49, 0.47, 0.533, 0.7099055555555556]\n"
     ]
    },
    {
     "data": {
      "text/plain": [
       "<matplotlib.legend.Legend at 0x110bda6a0>"
      ]
     },
     "execution_count": 152,
     "metadata": {},
     "output_type": "execute_result"
    },
    {
     "data": {
      "image/png": "[encoded data removed]",
      "text/plain": [
       "<Figure size 432x432 with 1 Axes>"
      ]
     },
     "metadata": {},
     "output_type": "display_data"
    }
   ],
   "source": [
    "# labels = ['Acceleration', 'Displacement', 'Horsepower', 'MPG', 'Weight']\n",
    "import matplotlib.pyplot as plt\n",
    "# Let's look at the 1970 Chevy Impala and plot it.\n",
    "# values = final_df.loc['chevrolet impala 1970'].tolist()\n",
    "labels = ['acousticness', 'danceability', 'energy', 'instrumentalness', 'tempo']\n",
    "new_df = final_df.loc[ : , ['name', 'acousticness', 'danceability', 'energy', 'instrumentalness', 'tempo'] ]\n",
    "new_df.set_index('name', inplace=True)\n",
    "new_df.head()\n",
    "values = new_df.loc['Ribs'].tolist()\n",
    "values[-1] = values[-1]/180\n",
    "print(values)\n",
    "\n",
    "# Number of variables we're plotting.\n",
    "num_vars = len(labels)\n",
    "\n",
    "# Split the circle into even parts and save the angles\n",
    "# so we know where to put each axis.\n",
    "angles = np.linspace(0, 2 * np.pi, num_vars, endpoint=False).tolist()\n",
    "\n",
    "# The plot is a circle, so we need to \"complete the loop\"\n",
    "# and append the start value to the end.\n",
    "values += values[:1]\n",
    "angles += angles[:1]\n",
    "\n",
    "# ax = plt.subplot(polar=True)\n",
    "fig, ax = plt.subplots(figsize=(6, 6), subplot_kw=dict(polar=True))\n",
    "\n",
    "# Draw the outline of our data.\n",
    "ax.plot(angles, values, color='red', linewidth=1)\n",
    "# Fill it in.\n",
    "ax.fill(angles, values, color='red', alpha=0.25)\n",
    "\n",
    "ax.set_theta_offset(np.pi / 2)\n",
    "ax.set_theta_direction(-1)\n",
    "\n",
    "# Draw axis lines for each angle and label.\n",
    "ax.set_thetagrids(np.degrees(angles), labels)\n",
    "\n",
    "# Go through labels and adjust alignment based on where\n",
    "# it is in the circle.\n",
    "for label, angle in zip(ax.get_xticklabels(), angles):\n",
    "  if angle in (0, np.pi):\n",
    "    label.set_horizontalalignment('center')\n",
    "  elif 0 < angle < np.pi:\n",
    "    label.set_horizontalalignment('left')\n",
    "  else:\n",
    "    label.set_horizontalalignment('right')\n",
    "    \n",
    "ax.set_ylim(0, 1)\n",
    "# You can also set gridlines manually like this:\n",
    "# ax.set_rgrids([20, 40, 60, 80, 100])\n",
    "\n",
    "# Helper function to plot each car on the radar chart.\n",
    "def add_to_radar(song_name, color):\n",
    "  values = new_df.loc[song_name].tolist()\n",
    "  values[-1] = values[-1]/180\n",
    "  values += values[:1]\n",
    "  ax.plot(angles, values, color=color, linewidth=1, label=song_name)\n",
    "  ax.fill(angles, values, color=color, alpha=0.25)\n",
    "\n",
    "# Add each car to the chart.\n",
    "add_to_radar('Ribs', '#1aaf6c')\n",
    "add_to_radar('Tennis Court', '#429bf4')\n",
    "add_to_radar('Green Light', '#d42cea')\n",
    "add_to_radar('Royals', '#de326b')\n",
    "add_to_radar('Liability', '#b42ffa')\n",
    "\n",
    "# Set position of y-labels (0-100) to be in the middle\n",
    "# of the first two axes.\n",
    "ax.set_rlabel_position(180 / num_vars)\n",
    "\n",
    "# Add some custom styling.\n",
    "# Change the color of the tick labels.\n",
    "ax.tick_params(colors='#222222')\n",
    "# Make the y-axis (0-100) labels smaller.\n",
    "ax.tick_params(axis='y', labelsize=8)\n",
    "# Change the color of the circular gridlines.\n",
    "ax.grid(color='#AAAAAA')\n",
    "# Change the color of the outermost gridline (the spine).\n",
    "ax.spines['polar'].set_color('#222222')\n",
    "# Change the background color inside the circle itself.\n",
    "ax.set_facecolor('#FAFAFA')\n",
    "\n",
    "# Lastly, give the chart a title and give it some\n",
    "# padding above the \"Acceleration\" label.\n",
    "#ax.set_title('42 - Mumford and Sons', y=1.08)\n",
    "\n",
    "ax.legend(loc='upper right', bbox_to_anchor=(1.3, 1.1))"
   ]
  },
  {
   "cell_type": "code",
   "execution_count": 79,
   "metadata": {
    "ExecuteTime": {
     "end_time": "2019-10-27T23:17:13.331458Z",
     "start_time": "2019-10-27T23:17:13.325378Z"
    }
   },
   "outputs": [],
   "source": []
  },
  {
   "cell_type": "code",
   "execution_count": null,
   "metadata": {},
   "outputs": [],
   "source": []
  }
 ],
 "metadata": {
  "kernelspec": {
   "display_name": "Python 3",
   "language": "python",
   "name": "python3"
  },
  "language_info": {
   "codemirror_mode": {
    "name": "ipython",
    "version": 3
   },
   "file_extension": ".py",
   "mimetype": "text/x-python",
   "name": "python",
   "nbconvert_exporter": "python",
   "pygments_lexer": "ipython3",
   "version": "3.6.6"
  },
  "toc": {
   "base_numbering": 1,
   "nav_menu": {},
   "number_sections": true,
   "sideBar": true,
   "skip_h1_title": false,
   "title_cell": "Table of Contents",
   "title_sidebar": "Contents",
   "toc_cell": false,
   "toc_position": {},
   "toc_section_display": true,
   "toc_window_display": false
  },
  "varInspector": {
   "cols": {
    "lenName": 16,
    "lenType": 16,
    "lenVar": 40
   },
   "kernels_config": {
    "python": {
     "delete_cmd_postfix": "",
     "delete_cmd_prefix": "del ",
     "library": "var_list.py",
     "varRefreshCmd": "print(var_dic_list())"
    },
    "r": {
     "delete_cmd_postfix": ") ",
     "delete_cmd_prefix": "rm(",
     "library": "var_list.r",
     "varRefreshCmd": "cat(var_dic_list()) "
    }
   },
   "types_to_exclude": [
    "module",
    "function",
    "builtin_function_or_method",
    "instance",
    "_Feature"
   ],
   "window_display": false
  }
 },
 "nbformat": 4,
 "nbformat_minor": 2
}
